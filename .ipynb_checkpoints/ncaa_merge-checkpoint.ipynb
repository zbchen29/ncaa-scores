{
 "cells": [
  {
   "cell_type": "code",
   "execution_count": 4,
   "metadata": {
    "collapsed": true
   },
   "outputs": [],
   "source": [
    "# Built in PIL\n",
    "\n",
    "import os, numpy, PIL\n",
    "from PIL import Image\n",
    "\n",
    "# Access all PNG files in directory\n",
    "allfiles=os.listdir(os.getcwd())\n",
    "imlist=[filename for filename in allfiles if  filename[-4:] in [\".png\",\".PNG\"]]\n",
    "\n",
    "# Assuming all images are the same size, get dimensions of first image\n",
    "w,h=Image.open(imlist[0]).size\n",
    "N=len(imlist)\n",
    "\n",
    "# Alternative method using PIL blend function\n",
    "avg=Image.open(imlist[0])\n",
    "for i in range(1,N):\n",
    "    img=Image.open(imlist[i])\n",
    "    avg=Image.blend(avg,img,1.0/float(i+1))\n",
    "avg.save(\"Blend.png\")\n",
    "avg.show()"
   ]
  },
  {
   "cell_type": "code",
   "execution_count": 8,
   "metadata": {},
   "outputs": [],
   "source": [
    "# Alternative, more accurate\n",
    "\n",
    "import os, numpy, PIL\n",
    "from PIL import Image\n",
    "\n",
    "# Access all PNG files in directory\n",
    "allfiles=os.listdir(os.getcwd())\n",
    "imlist=[filename for filename in allfiles if  filename[-4:] in [\".png\",\".PNG\"]]\n",
    "\n",
    "# Assuming all images are the same size, get dimensions of first image\n",
    "w,h=Image.open(imlist[0]).size\n",
    "N=len(imlist)\n",
    "\n",
    "# Create a numpy array of floats to store the average (assume RGB images)\n",
    "arr=numpy.zeros((h,w,4),numpy.float)\n",
    "\n",
    "# Build up average pixel intensities, casting each image as an array of floats\n",
    "for im in imlist:\n",
    "    imarr=numpy.array(Image.open(im),dtype=numpy.float)\n",
    "    arr=arr+imarr/float(N)\n",
    "\n",
    "# Round values in array and cast as 8-bit integer\n",
    "arr=numpy.array(numpy.round(arr),dtype=numpy.uint8)\n",
    "\n",
    "# Generate, save and preview final image\n",
    "out=Image.fromarray(arr,mode=\"RGBA\")\n",
    "out.save(\"Average.png\")\n",
    "out.show()"
   ]
  },
  {
   "cell_type": "code",
   "execution_count": null,
   "metadata": {
    "collapsed": true
   },
   "outputs": [],
   "source": []
  }
 ],
 "metadata": {
  "kernelspec": {
   "display_name": "Python 3",
   "language": "python",
   "name": "python3"
  },
  "language_info": {
   "codemirror_mode": {
    "name": "ipython",
    "version": 3
   },
   "file_extension": ".py",
   "mimetype": "text/x-python",
   "name": "python",
   "nbconvert_exporter": "python",
   "pygments_lexer": "ipython3",
   "version": "3.6.1"
  }
 },
 "nbformat": 4,
 "nbformat_minor": 2
}
