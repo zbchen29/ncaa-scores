{
 "cells": [
  {
   "cell_type": "code",
   "execution_count": 42,
   "metadata": {},
   "outputs": [
    {
     "name": "stderr",
     "output_type": "stream",
     "text": [
      "/Users/BenChen/anaconda/lib/python3.6/site-packages/ipykernel_launcher.py:17: DeprecationWarning: `spline` is deprecated!\n",
      "spline is deprecated in scipy 0.19.0, use Bspline class instead.\n"
     ]
    },
    {
     "data": {
      "image/png": "[encoded data removed]",
      "text/plain": [
       "<matplotlib.figure.Figure at 0x109246278>"
      ]
     },
     "metadata": {},
     "output_type": "display_data"
    }
   ],
   "source": [
    "import matplotlib.pyplot as plt\n",
    "from scipy.interpolate import spline\n",
    "import numpy as np\n",
    "\n",
    "font = {'name':'Sathu',\n",
    "        'color':'xkcd:azure',\n",
    "        'weight':'bold',\n",
    "        'size':24\n",
    "       }\n",
    "\n",
    "x = np.array([1,2,3,4,4,5,6,7,8,9,10,11])\n",
    "y = np.array([0,-2,3,6,4,6,7,8,10,8,5,6])\n",
    "\n",
    "data_fixed = remove_doubles(x,y)\n",
    "\n",
    "xnew = np.linspace(1,14,100)\n",
    "ynew = spline(data_fixed[0],data_fixed[1],xnew)\n",
    "\n",
    "#plt.plot(x,y,linewidth=3,c='xkcd:azure')\n",
    "plt.title('Plot Test Title',fontdict=font)\n",
    "plt.plot(xnew,ynew,linewidth=3,c='xkcd:azure')\n",
    "plt.gca().axes.get_yaxis().set_(False)\n",
    "plt.gca().axes.get_xaxis().set_visible(False)\n",
    "plt.show()"
   ]
  },
  {
   "cell_type": "code",
   "execution_count": 31,
   "metadata": {},
   "outputs": [
    {
     "data": {
      "text/plain": [
       "[[1, 2, 3, 4, 5, 6, 7, 8, 9], [3, 2, 5, 3, 3, 4, 5, 8, 1]]"
      ]
     },
     "execution_count": 31,
     "metadata": {},
     "output_type": "execute_result"
    }
   ],
   "source": [
    "def remove_doubles(x,y):\n",
    "    xout = [x[0]]\n",
    "    yout = [y[0]]\n",
    "    for i in range(1,len(x)):\n",
    "        if x[i] == x[i-1]:\n",
    "            yout[-1] = y[i]\n",
    "        else:\n",
    "            xout.append(x[i])\n",
    "            yout.append(y[i])\n",
    "            \n",
    "    return [xout,yout]\n",
    "    \n",
    "a = [1,2,3,4,4,5,6,7,8,9]\n",
    "b = [3,2,5,7,3,3,4,5,8,1]\n",
    "\n",
    "remove_doubles(a,b)"
   ]
  },
  {
   "cell_type": "code",
   "execution_count": 15,
   "metadata": {},
   "outputs": [
    {
     "ename": "NameError",
     "evalue": "name 'xrange' is not defined",
     "output_type": "error",
     "traceback": [
      "\u001b[0;31m---------------------------------------------------------------------------\u001b[0m",
      "\u001b[0;31mNameError\u001b[0m                                 Traceback (most recent call last)",
      "\u001b[0;32m<ipython-input-15-ac747421c515>\u001b[0m in \u001b[0;36m<module>\u001b[0;34m()\u001b[0m\n\u001b[0;32m----> 1\u001b[0;31m \u001b[0;32mfor\u001b[0m \u001b[0mi\u001b[0m \u001b[0;32min\u001b[0m \u001b[0mxrange\u001b[0m\u001b[0;34m(\u001b[0m\u001b[0;36m0\u001b[0m\u001b[0;34m,\u001b[0m\u001b[0;36m10\u001b[0m\u001b[0;34m)\u001b[0m\u001b[0;34m:\u001b[0m\u001b[0;34m\u001b[0m\u001b[0m\n\u001b[0m\u001b[1;32m      2\u001b[0m     \u001b[0mprint\u001b[0m\u001b[0;34m(\u001b[0m\u001b[0mi\u001b[0m\u001b[0;34m)\u001b[0m\u001b[0;34m\u001b[0m\u001b[0m\n",
      "\u001b[0;31mNameError\u001b[0m: name 'xrange' is not defined"
     ]
    }
   ],
   "source": []
  },
  {
   "cell_type": "code",
   "execution_count": null,
   "metadata": {
    "collapsed": true
   },
   "outputs": [],
   "source": []
  }
 ],
 "metadata": {
  "kernelspec": {
   "display_name": "Python 3",
   "language": "python",
   "name": "python3"
  },
  "language_info": {
   "codemirror_mode": {
    "name": "ipython",
    "version": 3
   },
   "file_extension": ".py",
   "mimetype": "text/x-python",
   "name": "python",
   "nbconvert_exporter": "python",
   "pygments_lexer": "ipython3",
   "version": "3.6.1"
  }
 },
 "nbformat": 4,
 "nbformat_minor": 2
}
